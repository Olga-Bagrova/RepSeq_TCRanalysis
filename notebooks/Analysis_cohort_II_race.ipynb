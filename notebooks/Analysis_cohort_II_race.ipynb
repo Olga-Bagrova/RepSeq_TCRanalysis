{
 "cells": [
  {
   "cell_type": "markdown",
   "id": "17ecb07a-8567-4180-a652-9dd55f67be8d",
   "metadata": {},
   "source": [
    "*This notebook contains race analysis of Rep-seq data for Cohort II. Specifically, correlations between gene usage and patient's race*"
   ]
  },
  {
   "cell_type": "markdown",
   "id": "553281ff-465c-4b44-82ce-2bb86c131716",
   "metadata": {},
   "source": [
    "First, analysis was performed with only one batch of data, Hip. Some statistically signiicant result for several genes were found. However, when working with two batches, Keck and Hip, no stastically significant correlations were detected so far (not shown)."
   ]
  },
  {
   "cell_type": "code",
   "execution_count": 1,
   "id": "5d08cb58-3a55-4525-a3f2-0a48979f1f78",
   "metadata": {},
   "outputs": [],
   "source": [
    "import pandas as pd\n",
    "import numpy as np\n",
    "import matplotlib.pyplot as plt\n",
    "import seaborn as sns\n",
    "import itertools\n",
    "\n",
    "from scipy.stats import chi2_contingency, kruskal, fisher_exact\n",
    "from statsmodels.stats.multitest import multipletests\n",
    "from statsmodels.stats.multicomp import pairwise_tukeyhsd, MultiComparison\n",
    "from scikit_posthocs import posthoc_dunn"
   ]
  },
  {
   "cell_type": "markdown",
   "id": "9d29e893-f61c-4da7-acac-dfe094e23920",
   "metadata": {},
   "source": [
    "# Hip analysis"
   ]
  },
  {
   "cell_type": "code",
   "execution_count": 5,
   "id": "0be74d16-7dce-4ad1-93ed-88e706214071",
   "metadata": {},
   "outputs": [],
   "source": [
    "trbj = pd.read_csv('/home/svinogradova/american_beta/trbj_clean.csv').drop(['Unnamed: 0'], axis=1)\n",
    "trbv = pd.read_csv('/home/svinogradova/american_beta/trbv_clean.csv').drop(['Unnamed: 0'], axis=1)"
   ]
  },
  {
   "cell_type": "code",
   "execution_count": 6,
   "id": "5f185218-bd97-4bab-92ab-704e43832332",
   "metadata": {},
   "outputs": [
    {
     "data": {
      "text/html": [
       "<div>\n",
       "<style scoped>\n",
       "    .dataframe tbody tr th:only-of-type {\n",
       "        vertical-align: middle;\n",
       "    }\n",
       "\n",
       "    .dataframe tbody tr th {\n",
       "        vertical-align: top;\n",
       "    }\n",
       "\n",
       "    .dataframe thead th {\n",
       "        text-align: right;\n",
       "    }\n",
       "</style>\n",
       "<table border=\"1\" class=\"dataframe\">\n",
       "  <thead>\n",
       "    <tr style=\"text-align: right;\">\n",
       "      <th></th>\n",
       "      <th>file_name</th>\n",
       "      <th>sample_id</th>\n",
       "      <th>age</th>\n",
       "      <th>race</th>\n",
       "      <th>sex</th>\n",
       "      <th>cmv</th>\n",
       "      <th>hla</th>\n",
       "      <th>..filter..</th>\n",
       "    </tr>\n",
       "  </thead>\n",
       "  <tbody>\n",
       "    <tr>\n",
       "      <th>0</th>\n",
       "      <td>../mixcr/../corr/HIP00110.txt</td>\n",
       "      <td>HIP00110</td>\n",
       "      <td>55.0</td>\n",
       "      <td>NaN</td>\n",
       "      <td>male</td>\n",
       "      <td>-</td>\n",
       "      <td>HLA-A*03,HLA-A*24,HLA-B*07</td>\n",
       "      <td>corr:2:0.05:all</td>\n",
       "    </tr>\n",
       "    <tr>\n",
       "      <th>1</th>\n",
       "      <td>../mixcr/../corr/HIP00169.txt</td>\n",
       "      <td>HIP00169</td>\n",
       "      <td>41.0</td>\n",
       "      <td>NaN</td>\n",
       "      <td>male</td>\n",
       "      <td>-</td>\n",
       "      <td>HLA-A*01,HLA-A*02,HLA-B*27,HLA-B*37</td>\n",
       "      <td>corr:2:0.05:all</td>\n",
       "    </tr>\n",
       "    <tr>\n",
       "      <th>2</th>\n",
       "      <td>../mixcr/../corr/HIP00594.txt</td>\n",
       "      <td>HIP00594</td>\n",
       "      <td>21.0</td>\n",
       "      <td>caucasian,non-hispanic or latino</td>\n",
       "      <td>male</td>\n",
       "      <td>+</td>\n",
       "      <td>HLA-A*02,HLA-A*32,HLA-B*07,HLA-B*61</td>\n",
       "      <td>corr:2:0.05:all</td>\n",
       "    </tr>\n",
       "    <tr>\n",
       "      <th>3</th>\n",
       "      <td>../mixcr/../corr/HIP00602.txt</td>\n",
       "      <td>HIP00602</td>\n",
       "      <td>45.0</td>\n",
       "      <td>NaN</td>\n",
       "      <td>female</td>\n",
       "      <td>-</td>\n",
       "      <td>HLA-A*02,HLA-A*11,HLA-B*35,HLA-B*51</td>\n",
       "      <td>corr:2:0.05:all</td>\n",
       "    </tr>\n",
       "    <tr>\n",
       "      <th>4</th>\n",
       "      <td>../mixcr/../corr/HIP00614.txt</td>\n",
       "      <td>HIP00614</td>\n",
       "      <td>27.0</td>\n",
       "      <td>caucasian,non-hispanic or latino</td>\n",
       "      <td>male</td>\n",
       "      <td>-</td>\n",
       "      <td>HLA-A*03,HLA-A*29,HLA-B*07</td>\n",
       "      <td>corr:2:0.05:all</td>\n",
       "    </tr>\n",
       "    <tr>\n",
       "      <th>...</th>\n",
       "      <td>...</td>\n",
       "      <td>...</td>\n",
       "      <td>...</td>\n",
       "      <td>...</td>\n",
       "      <td>...</td>\n",
       "      <td>...</td>\n",
       "      <td>...</td>\n",
       "      <td>...</td>\n",
       "    </tr>\n",
       "    <tr>\n",
       "      <th>781</th>\n",
       "      <td>../mixcr/../corr/Keck0116_MC1.txt</td>\n",
       "      <td>Keck0116_MC1</td>\n",
       "      <td>19.0</td>\n",
       "      <td>asian or pacific islander,non-hispanic or latino</td>\n",
       "      <td>female</td>\n",
       "      <td>-</td>\n",
       "      <td>NaN</td>\n",
       "      <td>corr:2:0.05:all</td>\n",
       "    </tr>\n",
       "    <tr>\n",
       "      <th>782</th>\n",
       "      <td>../mixcr/../corr/Keck0117_MC1.txt</td>\n",
       "      <td>Keck0117_MC1</td>\n",
       "      <td>34.0</td>\n",
       "      <td>caucasian,non-hispanic or latino</td>\n",
       "      <td>male</td>\n",
       "      <td>+</td>\n",
       "      <td>NaN</td>\n",
       "      <td>corr:2:0.05:all</td>\n",
       "    </tr>\n",
       "    <tr>\n",
       "      <th>783</th>\n",
       "      <td>../mixcr/../corr/Keck0118_MC1.txt</td>\n",
       "      <td>Keck0118_MC1</td>\n",
       "      <td>28.0</td>\n",
       "      <td>caucasian,non-hispanic or latino</td>\n",
       "      <td>male</td>\n",
       "      <td>+</td>\n",
       "      <td>NaN</td>\n",
       "      <td>corr:2:0.05:all</td>\n",
       "    </tr>\n",
       "    <tr>\n",
       "      <th>784</th>\n",
       "      <td>../mixcr/../corr/Keck0119_MC1.txt</td>\n",
       "      <td>Keck0119_MC1</td>\n",
       "      <td>24.0</td>\n",
       "      <td>asian or pacific islander,non-hispanic or latino</td>\n",
       "      <td>female</td>\n",
       "      <td>+</td>\n",
       "      <td>NaN</td>\n",
       "      <td>corr:2:0.05:all</td>\n",
       "    </tr>\n",
       "    <tr>\n",
       "      <th>785</th>\n",
       "      <td>../mixcr/../corr/Keck0120_MC1.txt</td>\n",
       "      <td>Keck0120_MC1</td>\n",
       "      <td>26.0</td>\n",
       "      <td>caucasian,non-hispanic or latino</td>\n",
       "      <td>female</td>\n",
       "      <td>-</td>\n",
       "      <td>NaN</td>\n",
       "      <td>corr:2:0.05:all</td>\n",
       "    </tr>\n",
       "  </tbody>\n",
       "</table>\n",
       "<p>786 rows × 8 columns</p>\n",
       "</div>"
      ],
      "text/plain": [
       "                             file_name     sample_id   age  \\\n",
       "0        ../mixcr/../corr/HIP00110.txt      HIP00110  55.0   \n",
       "1        ../mixcr/../corr/HIP00169.txt      HIP00169  41.0   \n",
       "2        ../mixcr/../corr/HIP00594.txt      HIP00594  21.0   \n",
       "3        ../mixcr/../corr/HIP00602.txt      HIP00602  45.0   \n",
       "4        ../mixcr/../corr/HIP00614.txt      HIP00614  27.0   \n",
       "..                                 ...           ...   ...   \n",
       "781  ../mixcr/../corr/Keck0116_MC1.txt  Keck0116_MC1  19.0   \n",
       "782  ../mixcr/../corr/Keck0117_MC1.txt  Keck0117_MC1  34.0   \n",
       "783  ../mixcr/../corr/Keck0118_MC1.txt  Keck0118_MC1  28.0   \n",
       "784  ../mixcr/../corr/Keck0119_MC1.txt  Keck0119_MC1  24.0   \n",
       "785  ../mixcr/../corr/Keck0120_MC1.txt  Keck0120_MC1  26.0   \n",
       "\n",
       "                                                 race     sex cmv  \\\n",
       "0                                                 NaN    male   -   \n",
       "1                                                 NaN    male   -   \n",
       "2                    caucasian,non-hispanic or latino    male   +   \n",
       "3                                                 NaN  female   -   \n",
       "4                    caucasian,non-hispanic or latino    male   -   \n",
       "..                                                ...     ...  ..   \n",
       "781  asian or pacific islander,non-hispanic or latino  female   -   \n",
       "782                  caucasian,non-hispanic or latino    male   +   \n",
       "783                  caucasian,non-hispanic or latino    male   +   \n",
       "784  asian or pacific islander,non-hispanic or latino  female   +   \n",
       "785                  caucasian,non-hispanic or latino  female   -   \n",
       "\n",
       "                                     hla       ..filter..  \n",
       "0             HLA-A*03,HLA-A*24,HLA-B*07  corr:2:0.05:all  \n",
       "1    HLA-A*01,HLA-A*02,HLA-B*27,HLA-B*37  corr:2:0.05:all  \n",
       "2    HLA-A*02,HLA-A*32,HLA-B*07,HLA-B*61  corr:2:0.05:all  \n",
       "3    HLA-A*02,HLA-A*11,HLA-B*35,HLA-B*51  corr:2:0.05:all  \n",
       "4             HLA-A*03,HLA-A*29,HLA-B*07  corr:2:0.05:all  \n",
       "..                                   ...              ...  \n",
       "781                                  NaN  corr:2:0.05:all  \n",
       "782                                  NaN  corr:2:0.05:all  \n",
       "783                                  NaN  corr:2:0.05:all  \n",
       "784                                  NaN  corr:2:0.05:all  \n",
       "785                                  NaN  corr:2:0.05:all  \n",
       "\n",
       "[786 rows x 8 columns]"
      ]
     },
     "execution_count": 6,
     "metadata": {},
     "output_type": "execute_result"
    }
   ],
   "source": [
    "metadata = pd.read_csv('/projects/fmba_covid/hip_full/metadata.txt', sep='\\t')\n",
    "metadata"
   ]
  },
  {
   "cell_type": "code",
   "execution_count": 7,
   "id": "8aded7f8-3efa-4697-95b5-2e7fad3a25f8",
   "metadata": {},
   "outputs": [],
   "source": [
    "trbj = trbj.rename(columns={'id': 'sample_id'})\n",
    "trbj['sample_id'] = trbj['sample_id'].apply(lambda x: x.split('.')[0])\n",
    "trbv = trbv.rename(columns={'id': 'sample_id'})\n",
    "trbv['sample_id'] = trbv['sample_id'].apply(lambda x: x.split('.')[0])"
   ]
  },
  {
   "cell_type": "code",
   "execution_count": 8,
   "id": "51d8e41d-5c49-4a00-bd12-cd781051aa6e",
   "metadata": {},
   "outputs": [],
   "source": [
    "trbj_meta = pd.merge(trbj, metadata, on='sample_id')\n",
    "trbv_meta = pd.merge(trbv, metadata, on='sample_id')"
   ]
  },
  {
   "cell_type": "code",
   "execution_count": 10,
   "id": "5e4ad4ef-7d35-4684-b5d7-6dfdc97dbe2f",
   "metadata": {},
   "outputs": [
    {
     "data": {
      "text/plain": [
       "race\n",
       "caucasian,non-hispanic or latino                    377\n",
       "hispanic or latino                                   26\n",
       "asian or pacific islander,non-hispanic or latino     20\n",
       "non-hispanic or latino                                9\n",
       "black or african american,non-hispanic or latino      8\n",
       "Name: count, dtype: int64"
      ]
     },
     "execution_count": 10,
     "metadata": {},
     "output_type": "execute_result"
    }
   ],
   "source": [
    "trbv_meta.race.value_counts()"
   ]
  },
  {
   "cell_type": "markdown",
   "id": "72d06161-e047-411e-9b14-6bd44963a3cc",
   "metadata": {},
   "source": [
    "We selected genes with unnormal distribution, two or three Gaussians, for analysis. The hypothesis was as follows: presence of two or more picks could be a consequence of different races of patients."
   ]
  },
  {
   "cell_type": "markdown",
   "id": "fd52ff3d-b295-4436-a728-05810b71b509",
   "metadata": {},
   "source": [
    "# V genes"
   ]
  },
  {
   "cell_type": "markdown",
   "id": "1340458f-3f8a-4129-8a77-2d2b1d71c6cc",
   "metadata": {
    "tags": []
   },
   "source": [
    "# TRBV7-4"
   ]
  },
  {
   "cell_type": "markdown",
   "id": "f0f6e300-5154-4842-8efc-06900d883a19",
   "metadata": {},
   "source": [
    "We make subgroups based on usage and pick position. For example, here the two groups of patients we want to compare are those with gene usage less then 0.002 or more then 0.002."
   ]
  },
  {
   "cell_type": "code",
   "execution_count": 37,
   "id": "7cbe3751-3166-4be6-ab21-ba542dc82657",
   "metadata": {},
   "outputs": [
    {
     "data": {
      "image/png": "[encoded data removed]",
      "text/plain": [
       "<Figure size 640x480 with 1 Axes>"
      ]
     },
     "metadata": {},
     "output_type": "display_data"
    }
   ],
   "source": [
    "plt.hist(x=trbv['TRBV7-4'], bins=100);"
   ]
  },
  {
   "cell_type": "code",
   "execution_count": 38,
   "id": "d1eab1f1-0634-4607-a7ce-50dba891f21c",
   "metadata": {},
   "outputs": [
    {
     "data": {
      "text/plain": [
       "V7-4 group\n",
       "0    389\n",
       "1    276\n",
       "Name: count, dtype: int64"
      ]
     },
     "execution_count": 38,
     "metadata": {},
     "output_type": "execute_result"
    }
   ],
   "source": [
    "trbv_meta['V7-4 group'] = trbv_meta.apply(lambda row: 0 if row['TRBV7-4'] < 0.002 else 1, axis=1)\n",
    "trbv_meta['V7-4 group'].value_counts()"
   ]
  },
  {
   "cell_type": "code",
   "execution_count": 39,
   "id": "e44f47d5-459f-4e22-a04e-e9ba1bb29e49",
   "metadata": {},
   "outputs": [
    {
     "data": {
      "text/html": [
       "<div>\n",
       "<style scoped>\n",
       "    .dataframe tbody tr th:only-of-type {\n",
       "        vertical-align: middle;\n",
       "    }\n",
       "\n",
       "    .dataframe tbody tr th {\n",
       "        vertical-align: top;\n",
       "    }\n",
       "\n",
       "    .dataframe thead th {\n",
       "        text-align: right;\n",
       "    }\n",
       "</style>\n",
       "<table border=\"1\" class=\"dataframe\">\n",
       "  <thead>\n",
       "    <tr style=\"text-align: right;\">\n",
       "      <th>race</th>\n",
       "      <th>asian or pacific islander,non-hispanic or latino</th>\n",
       "      <th>black or african american,non-hispanic or latino</th>\n",
       "      <th>caucasian,non-hispanic or latino</th>\n",
       "      <th>hispanic or latino</th>\n",
       "      <th>non-hispanic or latino</th>\n",
       "    </tr>\n",
       "    <tr>\n",
       "      <th>V7-4 group</th>\n",
       "      <th></th>\n",
       "      <th></th>\n",
       "      <th></th>\n",
       "      <th></th>\n",
       "      <th></th>\n",
       "    </tr>\n",
       "  </thead>\n",
       "  <tbody>\n",
       "    <tr>\n",
       "      <th>0</th>\n",
       "      <td>19</td>\n",
       "      <td>4</td>\n",
       "      <td>211</td>\n",
       "      <td>21</td>\n",
       "      <td>9</td>\n",
       "    </tr>\n",
       "    <tr>\n",
       "      <th>1</th>\n",
       "      <td>1</td>\n",
       "      <td>4</td>\n",
       "      <td>166</td>\n",
       "      <td>5</td>\n",
       "      <td>0</td>\n",
       "    </tr>\n",
       "  </tbody>\n",
       "</table>\n",
       "</div>"
      ],
      "text/plain": [
       "race        asian or pacific islander,non-hispanic or latino  \\\n",
       "V7-4 group                                                     \n",
       "0                                                         19   \n",
       "1                                                          1   \n",
       "\n",
       "race        black or african american,non-hispanic or latino  \\\n",
       "V7-4 group                                                     \n",
       "0                                                          4   \n",
       "1                                                          4   \n",
       "\n",
       "race        caucasian,non-hispanic or latino  hispanic or latino  \\\n",
       "V7-4 group                                                         \n",
       "0                                        211                  21   \n",
       "1                                        166                   5   \n",
       "\n",
       "race        non-hispanic or latino  \n",
       "V7-4 group                          \n",
       "0                                9  \n",
       "1                                0  "
      ]
     },
     "execution_count": 39,
     "metadata": {},
     "output_type": "execute_result"
    }
   ],
   "source": [
    "contingency_table = pd.crosstab(trbv_meta['V7-4 group'], trbv_meta['race'])\n",
    "contingency_table"
   ]
  },
  {
   "cell_type": "code",
   "execution_count": 40,
   "id": "6dd3a199-2d86-4c4b-be47-d258aefb88c9",
   "metadata": {},
   "outputs": [
    {
     "data": {
      "text/plain": [
       "8.888895675139802e-05"
      ]
     },
     "execution_count": 40,
     "metadata": {},
     "output_type": "execute_result"
    }
   ],
   "source": [
    "chi2, p, dof, expected = chi2_contingency(contingency_table)\n",
    "p"
   ]
  },
  {
   "cell_type": "code",
   "execution_count": 89,
   "id": "9455e94b-577a-4170-9941-4fdf6ab92b71",
   "metadata": {},
   "outputs": [],
   "source": [
    "def test_race_associations(contingency_table, significance_level=0.05):\n",
    "    \"\"\"\n",
    "    Perform chi-squared or Fisher's exact tests for all pairs of races in the contingency table\n",
    "    and print significant results.\n",
    "\n",
    "    Parameters:\n",
    "    - contingency_table (pd.DataFrame): Contingency table with races as columns.\n",
    "    - significance_level (float): Threshold for significance level (default is 0.05).\n",
    "    \"\"\"\n",
    "    p_values = []\n",
    "    races = contingency_table.columns.tolist()\n",
    "    \n",
    "    # Iterate over combinations of races\n",
    "    for (race1, race2) in itertools.combinations(races, 2):\n",
    "        sub_table = contingency_table[[race1, race2]]\n",
    "        \n",
    "        try:\n",
    "        \n",
    "            # Check if any expected frequency is less than 5 (typical threshold for chi-squared test)\n",
    "            if sub_table.shape == (2, 2):\n",
    "                oddsratio, p = fisher_exact(sub_table)\n",
    "                test_used = \"Fisher's exact test\"\n",
    "            else:\n",
    "                chi2, p, dof, expected = chi2_contingency(sub_table)\n",
    "                test_used = \"Chi-squared test\"\n",
    "\n",
    "            p_values.append(p)\n",
    "\n",
    "            # Print significant results\n",
    "            if p < significance_level:\n",
    "                print(f\"{test_used} between {race1} and {race2} is significant (p-value = {p})\")\n",
    "            else:\n",
    "                print(f\"{test_used} between {race1} and {race2} is NOT significant (p-value = {p})\")\n",
    "        \n",
    "        except ValueError as e:\n",
    "            # Handle the case where chi2_contingency fails due to zero expected frequencies\n",
    "            print(f\"Skipping {race1} and {race2} due to insufficient data.\")\n",
    "            print(f\"Error: {e}\")"
   ]
  },
  {
   "cell_type": "code",
   "execution_count": 46,
   "id": "67cde948-0adb-4d2c-b062-fd1e718e841b",
   "metadata": {},
   "outputs": [
    {
     "name": "stdout",
     "output_type": "stream",
     "text": [
      "Fisher's exact test between asian or pacific islander,non-hispanic or latino and black or african american,non-hispanic or latino is significant (p-value = 0.014814814814814817)\n",
      "Fisher's exact test between asian or pacific islander,non-hispanic or latino and caucasian,non-hispanic or latino is significant (p-value = 0.0002814689207610629)\n",
      "Fisher's exact test between asian or pacific islander,non-hispanic or latino and hispanic or latino is NOT significant (p-value = 0.21220587266605664)\n",
      "Fisher's exact test between asian or pacific islander,non-hispanic or latino and non-hispanic or latino is NOT significant (p-value = 1.0)\n",
      "Fisher's exact test between black or african american,non-hispanic or latino and caucasian,non-hispanic or latino is NOT significant (p-value = 0.7358872210575992)\n",
      "Fisher's exact test between black or african american,non-hispanic or latino and hispanic or latino is NOT significant (p-value = 0.1647582280965779)\n",
      "Fisher's exact test between black or african american,non-hispanic or latino and non-hispanic or latino is significant (p-value = 0.02941176470588236)\n",
      "Fisher's exact test between caucasian,non-hispanic or latino and hispanic or latino is significant (p-value = 0.013667488944031601)\n",
      "Fisher's exact test between caucasian,non-hispanic or latino and non-hispanic or latino is significant (p-value = 0.01190443277858531)\n",
      "Fisher's exact test between hispanic or latino and non-hispanic or latino is NOT significant (p-value = 0.29720421893097415)\n"
     ]
    }
   ],
   "source": [
    "test_race_associations(contingency_table)"
   ]
  },
  {
   "cell_type": "markdown",
   "id": "f9c1e3dd-273a-4c2e-bdd1-456eb6081642",
   "metadata": {},
   "source": [
    "# TRBV7-3"
   ]
  },
  {
   "cell_type": "code",
   "execution_count": 47,
   "id": "8a73a019-b591-4da8-938c-f8b2b290115a",
   "metadata": {},
   "outputs": [
    {
     "data": {
      "image/png": "[encoded data removed]",
      "text/plain": [
       "<Figure size 640x480 with 1 Axes>"
      ]
     },
     "metadata": {},
     "output_type": "display_data"
    }
   ],
   "source": [
    "plt.hist(x=trbv['TRBV7-3'], bins=100);"
   ]
  },
  {
   "cell_type": "code",
   "execution_count": 48,
   "id": "1109aa53-7e7b-476a-bf20-6b43adcb93c4",
   "metadata": {},
   "outputs": [
    {
     "data": {
      "text/plain": [
       "V7-3 group\n",
       "2    366\n",
       "1    250\n",
       "0     49\n",
       "Name: count, dtype: int64"
      ]
     },
     "execution_count": 48,
     "metadata": {},
     "output_type": "execute_result"
    }
   ],
   "source": [
    "trbv_meta['V7-3 group'] = trbv_meta.apply(lambda row: 0 if row['TRBV7-3'] < 0.005 else (1 if row['TRBV7-3'] < 0.015 else 2), axis=1)\n",
    "trbv_meta['V7-3 group'].value_counts()"
   ]
  },
  {
   "cell_type": "code",
   "execution_count": 49,
   "id": "24b1d74c-49ac-45d7-bb25-90898ee438ad",
   "metadata": {},
   "outputs": [
    {
     "data": {
      "text/html": [
       "<div>\n",
       "<style scoped>\n",
       "    .dataframe tbody tr th:only-of-type {\n",
       "        vertical-align: middle;\n",
       "    }\n",
       "\n",
       "    .dataframe tbody tr th {\n",
       "        vertical-align: top;\n",
       "    }\n",
       "\n",
       "    .dataframe thead th {\n",
       "        text-align: right;\n",
       "    }\n",
       "</style>\n",
       "<table border=\"1\" class=\"dataframe\">\n",
       "  <thead>\n",
       "    <tr style=\"text-align: right;\">\n",
       "      <th>race</th>\n",
       "      <th>asian or pacific islander,non-hispanic or latino</th>\n",
       "      <th>black or african american,non-hispanic or latino</th>\n",
       "      <th>caucasian,non-hispanic or latino</th>\n",
       "      <th>hispanic or latino</th>\n",
       "      <th>non-hispanic or latino</th>\n",
       "    </tr>\n",
       "    <tr>\n",
       "      <th>V7-3 group</th>\n",
       "      <th></th>\n",
       "      <th></th>\n",
       "      <th></th>\n",
       "      <th></th>\n",
       "      <th></th>\n",
       "    </tr>\n",
       "  </thead>\n",
       "  <tbody>\n",
       "    <tr>\n",
       "      <th>0</th>\n",
       "      <td>1</td>\n",
       "      <td>1</td>\n",
       "      <td>28</td>\n",
       "      <td>1</td>\n",
       "      <td>0</td>\n",
       "    </tr>\n",
       "    <tr>\n",
       "      <th>1</th>\n",
       "      <td>3</td>\n",
       "      <td>3</td>\n",
       "      <td>151</td>\n",
       "      <td>5</td>\n",
       "      <td>1</td>\n",
       "    </tr>\n",
       "    <tr>\n",
       "      <th>2</th>\n",
       "      <td>16</td>\n",
       "      <td>4</td>\n",
       "      <td>198</td>\n",
       "      <td>20</td>\n",
       "      <td>8</td>\n",
       "    </tr>\n",
       "  </tbody>\n",
       "</table>\n",
       "</div>"
      ],
      "text/plain": [
       "race        asian or pacific islander,non-hispanic or latino  \\\n",
       "V7-3 group                                                     \n",
       "0                                                          1   \n",
       "1                                                          3   \n",
       "2                                                         16   \n",
       "\n",
       "race        black or african american,non-hispanic or latino  \\\n",
       "V7-3 group                                                     \n",
       "0                                                          1   \n",
       "1                                                          3   \n",
       "2                                                          4   \n",
       "\n",
       "race        caucasian,non-hispanic or latino  hispanic or latino  \\\n",
       "V7-3 group                                                         \n",
       "0                                         28                   1   \n",
       "1                                        151                   5   \n",
       "2                                        198                  20   \n",
       "\n",
       "race        non-hispanic or latino  \n",
       "V7-3 group                          \n",
       "0                                0  \n",
       "1                                1  \n",
       "2                                8  "
      ]
     },
     "execution_count": 49,
     "metadata": {},
     "output_type": "execute_result"
    }
   ],
   "source": [
    "contingency_table = pd.crosstab(trbv_meta['V7-3 group'], trbv_meta['race'])\n",
    "contingency_table"
   ]
  },
  {
   "cell_type": "code",
   "execution_count": 50,
   "id": "6db8a25f-0487-4a7c-aae6-a4a2cec0348a",
   "metadata": {},
   "outputs": [
    {
     "data": {
      "text/plain": [
       "0.047550977934508"
      ]
     },
     "execution_count": 50,
     "metadata": {},
     "output_type": "execute_result"
    }
   ],
   "source": [
    "chi2, p, dof, expected = chi2_contingency(contingency_table)\n",
    "p"
   ]
  },
  {
   "cell_type": "code",
   "execution_count": 51,
   "id": "c5b0d2fc-792d-4e93-873a-523565069025",
   "metadata": {},
   "outputs": [
    {
     "name": "stdout",
     "output_type": "stream",
     "text": [
      "Chi-squared test between asian or pacific islander,non-hispanic or latino and black or african american,non-hispanic or latino is NOT significant (p-value = 0.28365402649977034)\n",
      "Chi-squared test between asian or pacific islander,non-hispanic or latino and caucasian,non-hispanic or latino is NOT significant (p-value = 0.05268334123111413)\n",
      "Chi-squared test between asian or pacific islander,non-hispanic or latino and hispanic or latino is NOT significant (p-value = 0.9209786944388716)\n",
      "Chi-squared test between asian or pacific islander,non-hispanic or latino and non-hispanic or latino is NOT significant (p-value = 0.7492688553966849)\n",
      "Chi-squared test between black or african american,non-hispanic or latino and caucasian,non-hispanic or latino is NOT significant (p-value = 0.8650709152754323)\n",
      "Chi-squared test between black or african american,non-hispanic or latino and hispanic or latino is NOT significant (p-value = 0.320645261338616)\n",
      "Chi-squared test between black or african american,non-hispanic or latino and non-hispanic or latino is NOT significant (p-value = 0.19341061430530793)\n",
      "Chi-squared test between caucasian,non-hispanic or latino and hispanic or latino is NOT significant (p-value = 0.05406072330855652)\n",
      "Chi-squared test between caucasian,non-hispanic or latino and non-hispanic or latino is NOT significant (p-value = 0.09456927227396415)\n",
      "Chi-squared test between hispanic or latino and non-hispanic or latino is NOT significant (p-value = 0.6966534205287571)\n"
     ]
    }
   ],
   "source": [
    "test_race_associations(contingency_table)"
   ]
  },
  {
   "cell_type": "code",
   "execution_count": 52,
   "id": "464653f0-de14-42b3-818d-8e06ece56bcd",
   "metadata": {},
   "outputs": [
    {
     "data": {
      "text/plain": [
       "V7-3 group\n",
       "1    616\n",
       "0     49\n",
       "Name: count, dtype: int64"
      ]
     },
     "execution_count": 52,
     "metadata": {},
     "output_type": "execute_result"
    }
   ],
   "source": [
    "trbv_meta['V7-3 group'] = trbv_meta.apply(lambda row: 0 if row['TRBV7-3'] < 0.005 else 1, axis=1)\n",
    "trbv_meta['V7-3 group'].value_counts()"
   ]
  },
  {
   "cell_type": "code",
   "execution_count": 53,
   "id": "2ebebb60-64bd-4e6b-9da8-7bed18414430",
   "metadata": {},
   "outputs": [
    {
     "data": {
      "text/html": [
       "<div>\n",
       "<style scoped>\n",
       "    .dataframe tbody tr th:only-of-type {\n",
       "        vertical-align: middle;\n",
       "    }\n",
       "\n",
       "    .dataframe tbody tr th {\n",
       "        vertical-align: top;\n",
       "    }\n",
       "\n",
       "    .dataframe thead th {\n",
       "        text-align: right;\n",
       "    }\n",
       "</style>\n",
       "<table border=\"1\" class=\"dataframe\">\n",
       "  <thead>\n",
       "    <tr style=\"text-align: right;\">\n",
       "      <th>race</th>\n",
       "      <th>asian or pacific islander,non-hispanic or latino</th>\n",
       "      <th>black or african american,non-hispanic or latino</th>\n",
       "      <th>caucasian,non-hispanic or latino</th>\n",
       "      <th>hispanic or latino</th>\n",
       "      <th>non-hispanic or latino</th>\n",
       "    </tr>\n",
       "    <tr>\n",
       "      <th>V7-3 group</th>\n",
       "      <th></th>\n",
       "      <th></th>\n",
       "      <th></th>\n",
       "      <th></th>\n",
       "      <th></th>\n",
       "    </tr>\n",
       "  </thead>\n",
       "  <tbody>\n",
       "    <tr>\n",
       "      <th>0</th>\n",
       "      <td>1</td>\n",
       "      <td>1</td>\n",
       "      <td>28</td>\n",
       "      <td>1</td>\n",
       "      <td>0</td>\n",
       "    </tr>\n",
       "    <tr>\n",
       "      <th>1</th>\n",
       "      <td>19</td>\n",
       "      <td>7</td>\n",
       "      <td>349</td>\n",
       "      <td>25</td>\n",
       "      <td>9</td>\n",
       "    </tr>\n",
       "  </tbody>\n",
       "</table>\n",
       "</div>"
      ],
      "text/plain": [
       "race        asian or pacific islander,non-hispanic or latino  \\\n",
       "V7-3 group                                                     \n",
       "0                                                          1   \n",
       "1                                                         19   \n",
       "\n",
       "race        black or african american,non-hispanic or latino  \\\n",
       "V7-3 group                                                     \n",
       "0                                                          1   \n",
       "1                                                          7   \n",
       "\n",
       "race        caucasian,non-hispanic or latino  hispanic or latino  \\\n",
       "V7-3 group                                                         \n",
       "0                                         28                   1   \n",
       "1                                        349                  25   \n",
       "\n",
       "race        non-hispanic or latino  \n",
       "V7-3 group                          \n",
       "0                                0  \n",
       "1                                9  "
      ]
     },
     "execution_count": 53,
     "metadata": {},
     "output_type": "execute_result"
    }
   ],
   "source": [
    "contingency_table = pd.crosstab(trbv_meta['V7-3 group'], trbv_meta['race'])\n",
    "contingency_table"
   ]
  },
  {
   "cell_type": "code",
   "execution_count": 54,
   "id": "770ac951-2b4f-4db9-8dcf-70cae2365d10",
   "metadata": {},
   "outputs": [
    {
     "data": {
      "text/plain": [
       "0.797329967608933"
      ]
     },
     "execution_count": 54,
     "metadata": {},
     "output_type": "execute_result"
    }
   ],
   "source": [
    "chi2, p, dof, expected = chi2_contingency(contingency_table)\n",
    "p"
   ]
  },
  {
   "cell_type": "code",
   "execution_count": 55,
   "id": "935cd66b-bb43-443a-89cc-b2d937d83b60",
   "metadata": {},
   "outputs": [
    {
     "data": {
      "text/plain": [
       "V7-3 group\n",
       "1    366\n",
       "0    299\n",
       "Name: count, dtype: int64"
      ]
     },
     "execution_count": 55,
     "metadata": {},
     "output_type": "execute_result"
    }
   ],
   "source": [
    "trbv_meta['V7-3 group'] = trbv_meta.apply(lambda row: 0 if row['TRBV7-3'] < 0.015 else 1, axis=1)\n",
    "trbv_meta['V7-3 group'].value_counts()"
   ]
  },
  {
   "cell_type": "code",
   "execution_count": 56,
   "id": "64340226-93cd-4be9-a807-7abce9ee3602",
   "metadata": {},
   "outputs": [
    {
     "data": {
      "text/html": [
       "<div>\n",
       "<style scoped>\n",
       "    .dataframe tbody tr th:only-of-type {\n",
       "        vertical-align: middle;\n",
       "    }\n",
       "\n",
       "    .dataframe tbody tr th {\n",
       "        vertical-align: top;\n",
       "    }\n",
       "\n",
       "    .dataframe thead th {\n",
       "        text-align: right;\n",
       "    }\n",
       "</style>\n",
       "<table border=\"1\" class=\"dataframe\">\n",
       "  <thead>\n",
       "    <tr style=\"text-align: right;\">\n",
       "      <th>race</th>\n",
       "      <th>asian or pacific islander,non-hispanic or latino</th>\n",
       "      <th>black or african american,non-hispanic or latino</th>\n",
       "      <th>caucasian,non-hispanic or latino</th>\n",
       "      <th>hispanic or latino</th>\n",
       "      <th>non-hispanic or latino</th>\n",
       "    </tr>\n",
       "    <tr>\n",
       "      <th>V7-3 group</th>\n",
       "      <th></th>\n",
       "      <th></th>\n",
       "      <th></th>\n",
       "      <th></th>\n",
       "      <th></th>\n",
       "    </tr>\n",
       "  </thead>\n",
       "  <tbody>\n",
       "    <tr>\n",
       "      <th>0</th>\n",
       "      <td>4</td>\n",
       "      <td>4</td>\n",
       "      <td>179</td>\n",
       "      <td>6</td>\n",
       "      <td>1</td>\n",
       "    </tr>\n",
       "    <tr>\n",
       "      <th>1</th>\n",
       "      <td>16</td>\n",
       "      <td>4</td>\n",
       "      <td>198</td>\n",
       "      <td>20</td>\n",
       "      <td>8</td>\n",
       "    </tr>\n",
       "  </tbody>\n",
       "</table>\n",
       "</div>"
      ],
      "text/plain": [
       "race        asian or pacific islander,non-hispanic or latino  \\\n",
       "V7-3 group                                                     \n",
       "0                                                          4   \n",
       "1                                                         16   \n",
       "\n",
       "race        black or african american,non-hispanic or latino  \\\n",
       "V7-3 group                                                     \n",
       "0                                                          4   \n",
       "1                                                          4   \n",
       "\n",
       "race        caucasian,non-hispanic or latino  hispanic or latino  \\\n",
       "V7-3 group                                                         \n",
       "0                                        179                   6   \n",
       "1                                        198                  20   \n",
       "\n",
       "race        non-hispanic or latino  \n",
       "V7-3 group                          \n",
       "0                                1  \n",
       "1                                8  "
      ]
     },
     "execution_count": 56,
     "metadata": {},
     "output_type": "execute_result"
    }
   ],
   "source": [
    "contingency_table = pd.crosstab(trbv_meta['V7-3 group'], trbv_meta['race'])\n",
    "contingency_table"
   ]
  },
  {
   "cell_type": "code",
   "execution_count": 57,
   "id": "dac2f4ca-f0cc-40d2-aa4f-c8f34f142438",
   "metadata": {},
   "outputs": [
    {
     "data": {
      "text/plain": [
       "0.004289809158271237"
      ]
     },
     "execution_count": 57,
     "metadata": {},
     "output_type": "execute_result"
    }
   ],
   "source": [
    "chi2, p, dof, expected = chi2_contingency(contingency_table)\n",
    "p"
   ]
  },
  {
   "cell_type": "code",
   "execution_count": 58,
   "id": "fc715473-17fa-4489-b977-dd62e4502236",
   "metadata": {},
   "outputs": [
    {
     "name": "stdout",
     "output_type": "stream",
     "text": [
      "Fisher's exact test between asian or pacific islander,non-hispanic or latino and black or african american,non-hispanic or latino is NOT significant (p-value = 0.1719507545594502)\n",
      "Fisher's exact test between asian or pacific islander,non-hispanic or latino and caucasian,non-hispanic or latino is significant (p-value = 0.020046378853139597)\n",
      "Fisher's exact test between asian or pacific islander,non-hispanic or latino and hispanic or latino is NOT significant (p-value = 1.0)\n",
      "Fisher's exact test between asian or pacific islander,non-hispanic or latino and non-hispanic or latino is NOT significant (p-value = 1.0)\n",
      "Fisher's exact test between black or african american,non-hispanic or latino and caucasian,non-hispanic or latino is NOT significant (p-value = 1.0)\n",
      "Fisher's exact test between black or african american,non-hispanic or latino and hispanic or latino is NOT significant (p-value = 0.19485703068769222)\n",
      "Fisher's exact test between black or african american,non-hispanic or latino and non-hispanic or latino is NOT significant (p-value = 0.13122171945701358)\n",
      "Fisher's exact test between caucasian,non-hispanic or latino and hispanic or latino is significant (p-value = 0.02353129859947217)\n",
      "Fisher's exact test between caucasian,non-hispanic or latino and non-hispanic or latino is significant (p-value = 0.04067907822077764)\n",
      "Fisher's exact test between hispanic or latino and non-hispanic or latino is NOT significant (p-value = 0.6478440096839624)\n"
     ]
    }
   ],
   "source": [
    "test_race_associations(contingency_table)"
   ]
  },
  {
   "cell_type": "markdown",
   "id": "e6ea5f58-6da4-4ca7-a184-8be9d441575b",
   "metadata": {},
   "source": [
    "# TRBV6-3"
   ]
  },
  {
   "cell_type": "code",
   "execution_count": 59,
   "id": "6c68d53a-d594-4f3c-934a-1167c0bceffe",
   "metadata": {},
   "outputs": [
    {
     "data": {
      "image/png": "[encoded data removed]",
      "text/plain": [
       "<Figure size 640x480 with 1 Axes>"
      ]
     },
     "metadata": {},
     "output_type": "display_data"
    }
   ],
   "source": [
    "plt.hist(x=trbv['TRBV6-3'], bins=100);"
   ]
  },
  {
   "cell_type": "code",
   "execution_count": 60,
   "id": "fb90c396-ed02-4c9d-be77-0e42acb8c980",
   "metadata": {},
   "outputs": [
    {
     "data": {
      "text/plain": [
       "V6-3 group\n",
       "1    311\n",
       "2    182\n",
       "0    172\n",
       "Name: count, dtype: int64"
      ]
     },
     "execution_count": 60,
     "metadata": {},
     "output_type": "execute_result"
    }
   ],
   "source": [
    "trbv_meta['V6-3 group'] = trbv_meta.apply(lambda row: 0 if row['TRBV6-3'] < 0.02 else (1 if row['TRBV6-3'] < 0.035 else 2), axis=1)\n",
    "trbv_meta['V6-3 group'].value_counts()"
   ]
  },
  {
   "cell_type": "code",
   "execution_count": 61,
   "id": "9d95de7e-7fa7-4976-9d37-49fca94c3f75",
   "metadata": {},
   "outputs": [
    {
     "data": {
      "text/html": [
       "<div>\n",
       "<style scoped>\n",
       "    .dataframe tbody tr th:only-of-type {\n",
       "        vertical-align: middle;\n",
       "    }\n",
       "\n",
       "    .dataframe tbody tr th {\n",
       "        vertical-align: top;\n",
       "    }\n",
       "\n",
       "    .dataframe thead th {\n",
       "        text-align: right;\n",
       "    }\n",
       "</style>\n",
       "<table border=\"1\" class=\"dataframe\">\n",
       "  <thead>\n",
       "    <tr style=\"text-align: right;\">\n",
       "      <th>race</th>\n",
       "      <th>asian or pacific islander,non-hispanic or latino</th>\n",
       "      <th>black or african american,non-hispanic or latino</th>\n",
       "      <th>caucasian,non-hispanic or latino</th>\n",
       "      <th>hispanic or latino</th>\n",
       "      <th>non-hispanic or latino</th>\n",
       "    </tr>\n",
       "    <tr>\n",
       "      <th>V6-3 group</th>\n",
       "      <th></th>\n",
       "      <th></th>\n",
       "      <th></th>\n",
       "      <th></th>\n",
       "      <th></th>\n",
       "    </tr>\n",
       "  </thead>\n",
       "  <tbody>\n",
       "    <tr>\n",
       "      <th>0</th>\n",
       "      <td>7</td>\n",
       "      <td>3</td>\n",
       "      <td>97</td>\n",
       "      <td>10</td>\n",
       "      <td>7</td>\n",
       "    </tr>\n",
       "    <tr>\n",
       "      <th>1</th>\n",
       "      <td>10</td>\n",
       "      <td>3</td>\n",
       "      <td>174</td>\n",
       "      <td>11</td>\n",
       "      <td>1</td>\n",
       "    </tr>\n",
       "    <tr>\n",
       "      <th>2</th>\n",
       "      <td>3</td>\n",
       "      <td>2</td>\n",
       "      <td>106</td>\n",
       "      <td>5</td>\n",
       "      <td>1</td>\n",
       "    </tr>\n",
       "  </tbody>\n",
       "</table>\n",
       "</div>"
      ],
      "text/plain": [
       "race        asian or pacific islander,non-hispanic or latino  \\\n",
       "V6-3 group                                                     \n",
       "0                                                          7   \n",
       "1                                                         10   \n",
       "2                                                          3   \n",
       "\n",
       "race        black or african american,non-hispanic or latino  \\\n",
       "V6-3 group                                                     \n",
       "0                                                          3   \n",
       "1                                                          3   \n",
       "2                                                          2   \n",
       "\n",
       "race        caucasian,non-hispanic or latino  hispanic or latino  \\\n",
       "V6-3 group                                                         \n",
       "0                                         97                  10   \n",
       "1                                        174                  11   \n",
       "2                                        106                   5   \n",
       "\n",
       "race        non-hispanic or latino  \n",
       "V6-3 group                          \n",
       "0                                7  \n",
       "1                                1  \n",
       "2                                1  "
      ]
     },
     "execution_count": 61,
     "metadata": {},
     "output_type": "execute_result"
    }
   ],
   "source": [
    "contingency_table = pd.crosstab(trbv_meta['V6-3 group'], trbv_meta['race'])\n",
    "contingency_table"
   ]
  },
  {
   "cell_type": "code",
   "execution_count": 62,
   "id": "779ad41f-1ab2-42c6-81fb-15b8824834cb",
   "metadata": {},
   "outputs": [
    {
     "data": {
      "text/plain": [
       "0.04940604117087392"
      ]
     },
     "execution_count": 62,
     "metadata": {},
     "output_type": "execute_result"
    }
   ],
   "source": [
    "chi2, p, dof, expected = chi2_contingency(contingency_table)\n",
    "p"
   ]
  },
  {
   "cell_type": "code",
   "execution_count": 63,
   "id": "4fc44679-d4c0-47b1-8a87-b43af234b163",
   "metadata": {},
   "outputs": [
    {
     "name": "stdout",
     "output_type": "stream",
     "text": [
      "Chi-squared test between asian or pacific islander,non-hispanic or latino and black or african american,non-hispanic or latino is NOT significant (p-value = 0.7701624239734983)\n",
      "Chi-squared test between asian or pacific islander,non-hispanic or latino and caucasian,non-hispanic or latino is NOT significant (p-value = 0.39183320547328643)\n",
      "Chi-squared test between asian or pacific islander,non-hispanic or latino and hispanic or latino is NOT significant (p-value = 0.8609154819448513)\n",
      "Chi-squared test between asian or pacific islander,non-hispanic or latino and non-hispanic or latino is NOT significant (p-value = 0.08648447127088525)\n",
      "Chi-squared test between black or african american,non-hispanic or latino and caucasian,non-hispanic or latino is NOT significant (p-value = 0.7510413023737932)\n",
      "Chi-squared test between black or african american,non-hispanic or latino and hispanic or latino is NOT significant (p-value = 0.9348581017065529)\n",
      "Chi-squared test between black or african american,non-hispanic or latino and non-hispanic or latino is NOT significant (p-value = 0.2363963649240185)\n",
      "Chi-squared test between caucasian,non-hispanic or latino and hispanic or latino is NOT significant (p-value = 0.32292681637847087)\n",
      "Chi-squared test between caucasian,non-hispanic or latino and non-hispanic or latino is significant (p-value = 0.0023156356466572385)\n",
      "Chi-squared test between hispanic or latino and non-hispanic or latino is NOT significant (p-value = 0.1175009986299778)\n"
     ]
    }
   ],
   "source": [
    "test_race_associations(contingency_table)"
   ]
  },
  {
   "cell_type": "markdown",
   "id": "9afa61f0-5c07-4615-89d0-9363db5b2e3d",
   "metadata": {},
   "source": [
    "# TRBV4-3"
   ]
  },
  {
   "cell_type": "code",
   "execution_count": 64,
   "id": "93de120a-d5d1-40b6-8718-c8a5f45fd194",
   "metadata": {},
   "outputs": [
    {
     "data": {
      "image/png": "[encoded data removed]",
      "text/plain": [
       "<Figure size 640x480 with 1 Axes>"
      ]
     },
     "metadata": {},
     "output_type": "display_data"
    }
   ],
   "source": [
    "plt.hist(x=trbv['TRBV4-3'], bins=100);"
   ]
  },
  {
   "cell_type": "code",
   "execution_count": 65,
   "id": "2cd4fb23-77b6-48e1-b7f1-f0f1ba4dc29e",
   "metadata": {},
   "outputs": [
    {
     "data": {
      "text/plain": [
       "V4-3 group\n",
       "1    488\n",
       "0    177\n",
       "Name: count, dtype: int64"
      ]
     },
     "execution_count": 65,
     "metadata": {},
     "output_type": "execute_result"
    }
   ],
   "source": [
    "trbv_meta['V4-3 group'] = trbv_meta.apply(lambda row: 0 if row['TRBV4-3'] < 0.01 else 1, axis=1)\n",
    "trbv_meta['V4-3 group'].value_counts()"
   ]
  },
  {
   "cell_type": "code",
   "execution_count": 66,
   "id": "12130ca3-a3e6-4550-b54f-2d928c3be452",
   "metadata": {},
   "outputs": [
    {
     "data": {
      "text/html": [
       "<div>\n",
       "<style scoped>\n",
       "    .dataframe tbody tr th:only-of-type {\n",
       "        vertical-align: middle;\n",
       "    }\n",
       "\n",
       "    .dataframe tbody tr th {\n",
       "        vertical-align: top;\n",
       "    }\n",
       "\n",
       "    .dataframe thead th {\n",
       "        text-align: right;\n",
       "    }\n",
       "</style>\n",
       "<table border=\"1\" class=\"dataframe\">\n",
       "  <thead>\n",
       "    <tr style=\"text-align: right;\">\n",
       "      <th>race</th>\n",
       "      <th>asian or pacific islander,non-hispanic or latino</th>\n",
       "      <th>black or african american,non-hispanic or latino</th>\n",
       "      <th>caucasian,non-hispanic or latino</th>\n",
       "      <th>hispanic or latino</th>\n",
       "      <th>non-hispanic or latino</th>\n",
       "    </tr>\n",
       "    <tr>\n",
       "      <th>V4-3 group</th>\n",
       "      <th></th>\n",
       "      <th></th>\n",
       "      <th></th>\n",
       "      <th></th>\n",
       "      <th></th>\n",
       "    </tr>\n",
       "  </thead>\n",
       "  <tbody>\n",
       "    <tr>\n",
       "      <th>0</th>\n",
       "      <td>7</td>\n",
       "      <td>3</td>\n",
       "      <td>100</td>\n",
       "      <td>10</td>\n",
       "      <td>7</td>\n",
       "    </tr>\n",
       "    <tr>\n",
       "      <th>1</th>\n",
       "      <td>13</td>\n",
       "      <td>5</td>\n",
       "      <td>277</td>\n",
       "      <td>16</td>\n",
       "      <td>2</td>\n",
       "    </tr>\n",
       "  </tbody>\n",
       "</table>\n",
       "</div>"
      ],
      "text/plain": [
       "race        asian or pacific islander,non-hispanic or latino  \\\n",
       "V4-3 group                                                     \n",
       "0                                                          7   \n",
       "1                                                         13   \n",
       "\n",
       "race        black or african american,non-hispanic or latino  \\\n",
       "V4-3 group                                                     \n",
       "0                                                          3   \n",
       "1                                                          5   \n",
       "\n",
       "race        caucasian,non-hispanic or latino  hispanic or latino  \\\n",
       "V4-3 group                                                         \n",
       "0                                        100                  10   \n",
       "1                                        277                  16   \n",
       "\n",
       "race        non-hispanic or latino  \n",
       "V4-3 group                          \n",
       "0                                7  \n",
       "1                                2  "
      ]
     },
     "execution_count": 66,
     "metadata": {},
     "output_type": "execute_result"
    }
   ],
   "source": [
    "contingency_table = pd.crosstab(trbv_meta['V4-3 group'], trbv_meta['race'])\n",
    "contingency_table"
   ]
  },
  {
   "cell_type": "code",
   "execution_count": 67,
   "id": "4366c6ca-5c65-4c0b-b6de-42564a69f8c5",
   "metadata": {},
   "outputs": [
    {
     "data": {
      "text/plain": [
       "0.009833453150953731"
      ]
     },
     "execution_count": 67,
     "metadata": {},
     "output_type": "execute_result"
    }
   ],
   "source": [
    "chi2, p, dof, expected = chi2_contingency(contingency_table)\n",
    "p"
   ]
  },
  {
   "cell_type": "code",
   "execution_count": 68,
   "id": "d9a5f1a3-fd0b-4984-a3cb-18947ad08f3c",
   "metadata": {},
   "outputs": [
    {
     "name": "stdout",
     "output_type": "stream",
     "text": [
      "Fisher's exact test between asian or pacific islander,non-hispanic or latino and black or african american,non-hispanic or latino is NOT significant (p-value = 1.0)\n",
      "Fisher's exact test between asian or pacific islander,non-hispanic or latino and caucasian,non-hispanic or latino is NOT significant (p-value = 0.4397355739222093)\n",
      "Fisher's exact test between asian or pacific islander,non-hispanic or latino and hispanic or latino is NOT significant (p-value = 1.0)\n",
      "Fisher's exact test between asian or pacific islander,non-hispanic or latino and non-hispanic or latino is NOT significant (p-value = 0.05017491254372814)\n",
      "Fisher's exact test between black or african american,non-hispanic or latino and caucasian,non-hispanic or latino is NOT significant (p-value = 0.4457834676706549)\n",
      "Fisher's exact test between black or african american,non-hispanic or latino and hispanic or latino is NOT significant (p-value = 1.0)\n",
      "Fisher's exact test between black or african american,non-hispanic or latino and non-hispanic or latino is NOT significant (p-value = 0.15343480049362404)\n",
      "Fisher's exact test between caucasian,non-hispanic or latino and hispanic or latino is NOT significant (p-value = 0.25324003036005716)\n",
      "Fisher's exact test between caucasian,non-hispanic or latino and non-hispanic or latino is significant (p-value = 0.0023171272224133464)\n",
      "Fisher's exact test between hispanic or latino and non-hispanic or latino is NOT significant (p-value = 0.059907834101382486)\n"
     ]
    }
   ],
   "source": [
    "test_race_associations(contingency_table)"
   ]
  },
  {
   "cell_type": "markdown",
   "id": "438430fd-62a6-4e60-af8d-d91899c4f8c7",
   "metadata": {},
   "source": [
    "# TRBV28"
   ]
  },
  {
   "cell_type": "code",
   "execution_count": 69,
   "id": "0db201d2-506f-441c-92cb-394e566af927",
   "metadata": {},
   "outputs": [
    {
     "data": {
      "image/png": "[encoded data removed]",
      "text/plain": [
       "<Figure size 640x480 with 1 Axes>"
      ]
     },
     "metadata": {},
     "output_type": "display_data"
    }
   ],
   "source": [
    "plt.hist(x=trbv['TRBV28'], bins=100);"
   ]
  },
  {
   "cell_type": "code",
   "execution_count": 70,
   "id": "aaae74cb-d2cb-4d97-902f-77d00a30af7f",
   "metadata": {},
   "outputs": [
    {
     "data": {
      "text/plain": [
       "V28 group\n",
       "1    358\n",
       "2    180\n",
       "0    127\n",
       "Name: count, dtype: int64"
      ]
     },
     "execution_count": 70,
     "metadata": {},
     "output_type": "execute_result"
    }
   ],
   "source": [
    "trbv_meta['V28 group'] = trbv_meta.apply(lambda row: 0 if row['TRBV28'] < 0.02 else (1 if row['TRBV28'] < 0.055 else 2), axis=1)\n",
    "trbv_meta['V28 group'].value_counts()"
   ]
  },
  {
   "cell_type": "code",
   "execution_count": 71,
   "id": "bc8e1d3e-5993-4a1f-a590-d1951bb8dfe6",
   "metadata": {},
   "outputs": [
    {
     "data": {
      "text/html": [
       "<div>\n",
       "<style scoped>\n",
       "    .dataframe tbody tr th:only-of-type {\n",
       "        vertical-align: middle;\n",
       "    }\n",
       "\n",
       "    .dataframe tbody tr th {\n",
       "        vertical-align: top;\n",
       "    }\n",
       "\n",
       "    .dataframe thead th {\n",
       "        text-align: right;\n",
       "    }\n",
       "</style>\n",
       "<table border=\"1\" class=\"dataframe\">\n",
       "  <thead>\n",
       "    <tr style=\"text-align: right;\">\n",
       "      <th>race</th>\n",
       "      <th>asian or pacific islander,non-hispanic or latino</th>\n",
       "      <th>black or african american,non-hispanic or latino</th>\n",
       "      <th>caucasian,non-hispanic or latino</th>\n",
       "      <th>hispanic or latino</th>\n",
       "      <th>non-hispanic or latino</th>\n",
       "    </tr>\n",
       "    <tr>\n",
       "      <th>V28 group</th>\n",
       "      <th></th>\n",
       "      <th></th>\n",
       "      <th></th>\n",
       "      <th></th>\n",
       "      <th></th>\n",
       "    </tr>\n",
       "  </thead>\n",
       "  <tbody>\n",
       "    <tr>\n",
       "      <th>0</th>\n",
       "      <td>3</td>\n",
       "      <td>7</td>\n",
       "      <td>67</td>\n",
       "      <td>3</td>\n",
       "      <td>1</td>\n",
       "    </tr>\n",
       "    <tr>\n",
       "      <th>1</th>\n",
       "      <td>9</td>\n",
       "      <td>1</td>\n",
       "      <td>205</td>\n",
       "      <td>19</td>\n",
       "      <td>6</td>\n",
       "    </tr>\n",
       "    <tr>\n",
       "      <th>2</th>\n",
       "      <td>8</td>\n",
       "      <td>0</td>\n",
       "      <td>105</td>\n",
       "      <td>4</td>\n",
       "      <td>2</td>\n",
       "    </tr>\n",
       "  </tbody>\n",
       "</table>\n",
       "</div>"
      ],
      "text/plain": [
       "race       asian or pacific islander,non-hispanic or latino  \\\n",
       "V28 group                                                     \n",
       "0                                                         3   \n",
       "1                                                         9   \n",
       "2                                                         8   \n",
       "\n",
       "race       black or african american,non-hispanic or latino  \\\n",
       "V28 group                                                     \n",
       "0                                                         7   \n",
       "1                                                         1   \n",
       "2                                                         0   \n",
       "\n",
       "race       caucasian,non-hispanic or latino  hispanic or latino  \\\n",
       "V28 group                                                         \n",
       "0                                        67                   3   \n",
       "1                                       205                  19   \n",
       "2                                       105                   4   \n",
       "\n",
       "race       non-hispanic or latino  \n",
       "V28 group                          \n",
       "0                               1  \n",
       "1                               6  \n",
       "2                               2  "
      ]
     },
     "execution_count": 71,
     "metadata": {},
     "output_type": "execute_result"
    }
   ],
   "source": [
    "contingency_table = pd.crosstab(trbv_meta['V28 group'], trbv_meta['race'])\n",
    "contingency_table"
   ]
  },
  {
   "cell_type": "code",
   "execution_count": 72,
   "id": "85611f88-f732-46af-b2e2-ef2789c30c08",
   "metadata": {},
   "outputs": [
    {
     "data": {
      "text/plain": [
       "0.00011123820523128129"
      ]
     },
     "execution_count": 72,
     "metadata": {},
     "output_type": "execute_result"
    }
   ],
   "source": [
    "chi2, p, dof, expected = chi2_contingency(contingency_table)\n",
    "p"
   ]
  },
  {
   "cell_type": "code",
   "execution_count": 73,
   "id": "e8008674-676a-4d0a-bd3e-c3a9c5e459eb",
   "metadata": {},
   "outputs": [
    {
     "name": "stdout",
     "output_type": "stream",
     "text": [
      "Chi-squared test between asian or pacific islander,non-hispanic or latino and black or african american,non-hispanic or latino is significant (p-value = 0.00129402210546585)\n",
      "Chi-squared test between asian or pacific islander,non-hispanic or latino and caucasian,non-hispanic or latino is NOT significant (p-value = 0.5022473388373463)\n",
      "Chi-squared test between asian or pacific islander,non-hispanic or latino and hispanic or latino is NOT significant (p-value = 0.1228551715736864)\n",
      "Chi-squared test between asian or pacific islander,non-hispanic or latino and non-hispanic or latino is NOT significant (p-value = 0.548735417548757)\n",
      "Chi-squared test between black or african american,non-hispanic or latino and caucasian,non-hispanic or latino is significant (p-value = 4.525465981082267e-06)\n",
      "Chi-squared test between black or african american,non-hispanic or latino and hispanic or latino is significant (p-value = 0.00019854014613213862)\n",
      "Chi-squared test between black or african american,non-hispanic or latino and non-hispanic or latino is significant (p-value = 0.006580230420973455)\n",
      "Chi-squared test between caucasian,non-hispanic or latino and hispanic or latino is NOT significant (p-value = 0.1762241505778456)\n",
      "Chi-squared test between caucasian,non-hispanic or latino and non-hispanic or latino is NOT significant (p-value = 0.7539927398311761)\n",
      "Chi-squared test between hispanic or latino and non-hispanic or latino is NOT significant (p-value = 0.8949986684864292)\n"
     ]
    }
   ],
   "source": [
    "test_race_associations(contingency_table)"
   ]
  },
  {
   "cell_type": "markdown",
   "id": "ca1b4ad1-28ed-4a14-bb95-2a4bd45117f9",
   "metadata": {},
   "source": [
    "# TRBV11-3"
   ]
  },
  {
   "cell_type": "code",
   "execution_count": 74,
   "id": "edb435e6-be64-4b3d-bb3a-a185f009b927",
   "metadata": {},
   "outputs": [
    {
     "data": {
      "image/png": "[encoded data removed]",
      "text/plain": [
       "<Figure size 640x480 with 1 Axes>"
      ]
     },
     "metadata": {},
     "output_type": "display_data"
    }
   ],
   "source": [
    "plt.hist(x=trbv['TRBV11-3'], bins=100);"
   ]
  },
  {
   "cell_type": "code",
   "execution_count": 75,
   "id": "220919e9-43cd-42ba-a52e-521a47707a1b",
   "metadata": {},
   "outputs": [
    {
     "data": {
      "text/plain": [
       "V11-3 group\n",
       "0    540\n",
       "1    125\n",
       "Name: count, dtype: int64"
      ]
     },
     "execution_count": 75,
     "metadata": {},
     "output_type": "execute_result"
    }
   ],
   "source": [
    "trbv_meta['V11-3 group'] = trbv_meta.apply(lambda row: 0 if row['TRBV11-3'] < 0.0125 else 1, axis=1)\n",
    "trbv_meta['V11-3 group'].value_counts()"
   ]
  },
  {
   "cell_type": "code",
   "execution_count": 76,
   "id": "e0147455-45d9-4a46-94c8-f6600995a22c",
   "metadata": {},
   "outputs": [
    {
     "data": {
      "text/html": [
       "<div>\n",
       "<style scoped>\n",
       "    .dataframe tbody tr th:only-of-type {\n",
       "        vertical-align: middle;\n",
       "    }\n",
       "\n",
       "    .dataframe tbody tr th {\n",
       "        vertical-align: top;\n",
       "    }\n",
       "\n",
       "    .dataframe thead th {\n",
       "        text-align: right;\n",
       "    }\n",
       "</style>\n",
       "<table border=\"1\" class=\"dataframe\">\n",
       "  <thead>\n",
       "    <tr style=\"text-align: right;\">\n",
       "      <th>race</th>\n",
       "      <th>asian or pacific islander,non-hispanic or latino</th>\n",
       "      <th>black or african american,non-hispanic or latino</th>\n",
       "      <th>caucasian,non-hispanic or latino</th>\n",
       "      <th>hispanic or latino</th>\n",
       "      <th>non-hispanic or latino</th>\n",
       "    </tr>\n",
       "    <tr>\n",
       "      <th>V11-3 group</th>\n",
       "      <th></th>\n",
       "      <th></th>\n",
       "      <th></th>\n",
       "      <th></th>\n",
       "      <th></th>\n",
       "    </tr>\n",
       "  </thead>\n",
       "  <tbody>\n",
       "    <tr>\n",
       "      <th>0</th>\n",
       "      <td>16</td>\n",
       "      <td>7</td>\n",
       "      <td>314</td>\n",
       "      <td>18</td>\n",
       "      <td>5</td>\n",
       "    </tr>\n",
       "    <tr>\n",
       "      <th>1</th>\n",
       "      <td>4</td>\n",
       "      <td>1</td>\n",
       "      <td>63</td>\n",
       "      <td>8</td>\n",
       "      <td>4</td>\n",
       "    </tr>\n",
       "  </tbody>\n",
       "</table>\n",
       "</div>"
      ],
      "text/plain": [
       "race         asian or pacific islander,non-hispanic or latino  \\\n",
       "V11-3 group                                                     \n",
       "0                                                          16   \n",
       "1                                                           4   \n",
       "\n",
       "race         black or african american,non-hispanic or latino  \\\n",
       "V11-3 group                                                     \n",
       "0                                                           7   \n",
       "1                                                           1   \n",
       "\n",
       "race         caucasian,non-hispanic or latino  hispanic or latino  \\\n",
       "V11-3 group                                                         \n",
       "0                                         314                  18   \n",
       "1                                          63                   8   \n",
       "\n",
       "race         non-hispanic or latino  \n",
       "V11-3 group                          \n",
       "0                                 5  \n",
       "1                                 4  "
      ]
     },
     "execution_count": 76,
     "metadata": {},
     "output_type": "execute_result"
    }
   ],
   "source": [
    "contingency_table = pd.crosstab(trbv_meta['V11-3 group'], trbv_meta['race'])\n",
    "contingency_table"
   ]
  },
  {
   "cell_type": "code",
   "execution_count": 77,
   "id": "4e5263b1-2314-457f-86db-5946ccd11f61",
   "metadata": {},
   "outputs": [
    {
     "data": {
      "text/plain": [
       "0.10286068661008456"
      ]
     },
     "execution_count": 77,
     "metadata": {},
     "output_type": "execute_result"
    }
   ],
   "source": [
    "chi2, p, dof, expected = chi2_contingency(contingency_table)\n",
    "p"
   ]
  },
  {
   "cell_type": "code",
   "execution_count": 78,
   "id": "1a1d53c8-c977-478d-a2c6-5892cfaa9b4d",
   "metadata": {},
   "outputs": [
    {
     "name": "stdout",
     "output_type": "stream",
     "text": [
      "Fisher's exact test between asian or pacific islander,non-hispanic or latino and black or african american,non-hispanic or latino is NOT significant (p-value = 1.0)\n",
      "Fisher's exact test between asian or pacific islander,non-hispanic or latino and caucasian,non-hispanic or latino is NOT significant (p-value = 0.7580866448983905)\n",
      "Fisher's exact test between asian or pacific islander,non-hispanic or latino and hispanic or latino is NOT significant (p-value = 0.508559690068482)\n",
      "Fisher's exact test between asian or pacific islander,non-hispanic or latino and non-hispanic or latino is NOT significant (p-value = 0.20893259663874356)\n",
      "Fisher's exact test between black or african american,non-hispanic or latino and caucasian,non-hispanic or latino is NOT significant (p-value = 1.0)\n",
      "Fisher's exact test between black or african american,non-hispanic or latino and hispanic or latino is NOT significant (p-value = 0.40304041527623286)\n",
      "Fisher's exact test between black or african american,non-hispanic or latino and non-hispanic or latino is NOT significant (p-value = 0.29411764705882354)\n",
      "Fisher's exact test between caucasian,non-hispanic or latino and hispanic or latino is NOT significant (p-value = 0.1042982091700872)\n",
      "Fisher's exact test between caucasian,non-hispanic or latino and non-hispanic or latino is NOT significant (p-value = 0.05262883927701531)\n",
      "Fisher's exact test between hispanic or latino and non-hispanic or latino is NOT significant (p-value = 0.6854675129228556)\n"
     ]
    }
   ],
   "source": [
    "test_race_associations(contingency_table)"
   ]
  },
  {
   "cell_type": "markdown",
   "id": "44a9563d-21d0-4f22-9375-f8449913d71b",
   "metadata": {},
   "source": [
    "# TRBV10-2"
   ]
  },
  {
   "cell_type": "code",
   "execution_count": 90,
   "id": "2849c844-133b-417f-a82a-4f8561aac45c",
   "metadata": {},
   "outputs": [
    {
     "data": {
      "image/png": "[encoded data removed]",
      "text/plain": [
       "<Figure size 640x480 with 1 Axes>"
      ]
     },
     "metadata": {},
     "output_type": "display_data"
    }
   ],
   "source": [
    "plt.hist(x=trbv['TRBV10-2'], bins=100);"
   ]
  },
  {
   "cell_type": "code",
   "execution_count": 91,
   "id": "d8fc1ed2-dd1f-4a1d-8f5e-7c3883a5a584",
   "metadata": {},
   "outputs": [
    {
     "data": {
      "text/plain": [
       "V10-2 group\n",
       "2    521\n",
       "0    131\n",
       "1     13\n",
       "Name: count, dtype: int64"
      ]
     },
     "execution_count": 91,
     "metadata": {},
     "output_type": "execute_result"
    }
   ],
   "source": [
    "trbv_meta['V10-2 group'] = trbv_meta.apply(lambda row: 0 if row['TRBV10-2'] < 0.003 else (1 if row['TRBV28'] < 0.006 else 2), axis=1)\n",
    "trbv_meta['V10-2 group'].value_counts()"
   ]
  },
  {
   "cell_type": "code",
   "execution_count": 92,
   "id": "4d1df642-9bc3-4685-be6f-f8a538f3ebd7",
   "metadata": {},
   "outputs": [
    {
     "data": {
      "text/html": [
       "<div>\n",
       "<style scoped>\n",
       "    .dataframe tbody tr th:only-of-type {\n",
       "        vertical-align: middle;\n",
       "    }\n",
       "\n",
       "    .dataframe tbody tr th {\n",
       "        vertical-align: top;\n",
       "    }\n",
       "\n",
       "    .dataframe thead th {\n",
       "        text-align: right;\n",
       "    }\n",
       "</style>\n",
       "<table border=\"1\" class=\"dataframe\">\n",
       "  <thead>\n",
       "    <tr style=\"text-align: right;\">\n",
       "      <th>race</th>\n",
       "      <th>asian or pacific islander,non-hispanic or latino</th>\n",
       "      <th>black or african american,non-hispanic or latino</th>\n",
       "      <th>caucasian,non-hispanic or latino</th>\n",
       "      <th>hispanic or latino</th>\n",
       "      <th>non-hispanic or latino</th>\n",
       "    </tr>\n",
       "    <tr>\n",
       "      <th>V10-2 group</th>\n",
       "      <th></th>\n",
       "      <th></th>\n",
       "      <th></th>\n",
       "      <th></th>\n",
       "      <th></th>\n",
       "    </tr>\n",
       "  </thead>\n",
       "  <tbody>\n",
       "    <tr>\n",
       "      <th>0</th>\n",
       "      <td>3</td>\n",
       "      <td>0</td>\n",
       "      <td>72</td>\n",
       "      <td>5</td>\n",
       "      <td>1</td>\n",
       "    </tr>\n",
       "    <tr>\n",
       "      <th>1</th>\n",
       "      <td>0</td>\n",
       "      <td>1</td>\n",
       "      <td>7</td>\n",
       "      <td>1</td>\n",
       "      <td>0</td>\n",
       "    </tr>\n",
       "    <tr>\n",
       "      <th>2</th>\n",
       "      <td>17</td>\n",
       "      <td>7</td>\n",
       "      <td>298</td>\n",
       "      <td>20</td>\n",
       "      <td>8</td>\n",
       "    </tr>\n",
       "  </tbody>\n",
       "</table>\n",
       "</div>"
      ],
      "text/plain": [
       "race         asian or pacific islander,non-hispanic or latino  \\\n",
       "V10-2 group                                                     \n",
       "0                                                           3   \n",
       "1                                                           0   \n",
       "2                                                          17   \n",
       "\n",
       "race         black or african american,non-hispanic or latino  \\\n",
       "V10-2 group                                                     \n",
       "0                                                           0   \n",
       "1                                                           1   \n",
       "2                                                           7   \n",
       "\n",
       "race         caucasian,non-hispanic or latino  hispanic or latino  \\\n",
       "V10-2 group                                                         \n",
       "0                                          72                   5   \n",
       "1                                           7                   1   \n",
       "2                                         298                  20   \n",
       "\n",
       "race         non-hispanic or latino  \n",
       "V10-2 group                          \n",
       "0                                 1  \n",
       "1                                 0  \n",
       "2                                 8  "
      ]
     },
     "execution_count": 92,
     "metadata": {},
     "output_type": "execute_result"
    }
   ],
   "source": [
    "contingency_table = pd.crosstab(trbv_meta['V10-2 group'], trbv_meta['race'])\n",
    "contingency_table"
   ]
  },
  {
   "cell_type": "code",
   "execution_count": 93,
   "id": "aa1cca0d-c1b2-4164-bc3b-906d087e9958",
   "metadata": {},
   "outputs": [
    {
     "data": {
      "text/plain": [
       "0.4751830645089682"
      ]
     },
     "execution_count": 93,
     "metadata": {},
     "output_type": "execute_result"
    }
   ],
   "source": [
    "chi2, p, dof, expected = chi2_contingency(contingency_table)\n",
    "p"
   ]
  },
  {
   "cell_type": "code",
   "execution_count": 94,
   "id": "13e9d9b9-856d-413f-a1ad-140a024cc085",
   "metadata": {},
   "outputs": [
    {
     "name": "stdout",
     "output_type": "stream",
     "text": [
      "Chi-squared test between asian or pacific islander,non-hispanic or latino and black or african american,non-hispanic or latino is NOT significant (p-value = 0.15690992987345742)\n",
      "Chi-squared test between asian or pacific islander,non-hispanic or latino and caucasian,non-hispanic or latino is NOT significant (p-value = 0.7315873364132006)\n",
      "Chi-squared test between asian or pacific islander,non-hispanic or latino and hispanic or latino is NOT significant (p-value = 0.6134659869389066)\n",
      "Skipping asian or pacific islander,non-hispanic or latino and non-hispanic or latino due to insufficient data.\n",
      "Error: The internally computed table of expected frequencies has a zero element at (1, 0).\n",
      "Chi-squared test between black or african american,non-hispanic or latino and caucasian,non-hispanic or latino is NOT significant (p-value = 0.05315361024672804)\n",
      "Chi-squared test between black or african american,non-hispanic or latino and hispanic or latino is NOT significant (p-value = 0.3006690820347128)\n",
      "Chi-squared test between black or african american,non-hispanic or latino and non-hispanic or latino is NOT significant (p-value = 0.3651644761141095)\n",
      "Chi-squared test between caucasian,non-hispanic or latino and hispanic or latino is NOT significant (p-value = 0.7791834397061461)\n",
      "Chi-squared test between caucasian,non-hispanic or latino and non-hispanic or latino is NOT significant (p-value = 0.7516161681307245)\n",
      "Chi-squared test between hispanic or latino and non-hispanic or latino is NOT significant (p-value = 0.6966534205287571)\n"
     ]
    }
   ],
   "source": [
    "test_race_associations(contingency_table)"
   ]
  },
  {
   "cell_type": "code",
   "execution_count": null,
   "id": "e1ea3c55-e950-4c75-94cc-0edc492514d3",
   "metadata": {},
   "outputs": [],
   "source": []
  },
  {
   "cell_type": "markdown",
   "id": "b041fbfe-fc1f-4778-b4af-ef210a5d3616",
   "metadata": {},
   "source": [
    "# Kruskal–Wallis test"
   ]
  },
  {
   "cell_type": "markdown",
   "id": "05c66074-736b-43f7-a4ba-7e35e73db123",
   "metadata": {},
   "source": [
    "Now we compare distributions of each gene with unimodal (by eye) distribution across different racial groups."
   ]
  },
  {
   "cell_type": "code",
   "execution_count": 95,
   "id": "d395541c-5f42-47fb-9976-29da1d3b9e77",
   "metadata": {},
   "outputs": [],
   "source": [
    "genes_to_test = ['TRBV9', 'TRBV7-9', 'TRBV7-8', 'TRBV7-7', 'TRBV7-6', 'TRBV7-5','TRBV7-2', 'TRBV7-1', 'TRBV6-9', 'TRBV6-8',\n",
    "       'TRBV6-7', 'TRBV6-6', 'TRBV6-5', 'TRBV6-4', 'TRBV6-1',\n",
    "       'TRBV5-8', 'TRBV5-7', 'TRBV5-6', 'TRBV5-5', 'TRBV5-4', 'TRBV5-3',\n",
    "       'TRBV5-2', 'TRBV5-1', 'TRBV4-2', 'TRBV4-1', 'TRBV30',\n",
    "       'TRBV3-2', 'TRBV3-1', 'TRBV29-1', 'TRBV27', 'TRBV26',\n",
    "       'TRBV25-1', 'TRBV24-1', 'TRBV23-1', 'TRBV22-1', 'TRBV21-1', 'TRBV20-1',\n",
    "       'TRBV2', 'TRBV19', 'TRBV18', 'TRBV17', 'TRBV16', 'TRBV15', 'TRBV14',\n",
    "       'TRBV13', 'TRBV12-5', 'TRBV12-4', 'TRBV12-2', 'TRBV12-1',\n",
    "       'TRBV11-2', 'TRBV11-1', 'TRBV10-3', 'TRBV10-1', 'TRBV1']"
   ]
  },
  {
   "cell_type": "code",
   "execution_count": 96,
   "id": "73195d41-7bae-4b02-9759-5d1527a2c8fb",
   "metadata": {},
   "outputs": [],
   "source": [
    "results = {}\n",
    "\n",
    "for gene in genes_to_test:\n",
    "    groups = trbv_meta.groupby('race')[gene].apply(list)\n",
    "    stat, p_value = kruskal(*groups)\n",
    "    results[gene] = p_value\n",
    "    \n",
    "num_tests = len(results)\n",
    "alpha = 0.05\n",
    "bonferroni_threshold = alpha / num_tests\n",
    "\n",
    "corrected_results = {}\n",
    "for gene, p_value in results.items():\n",
    "    adjusted_p = p_value * num_tests\n",
    "    if adjusted_p > 1:\n",
    "        adjusted_p = 1\n",
    "    corrected_results[gene] = adjusted_p"
   ]
  },
  {
   "cell_type": "code",
   "execution_count": 97,
   "id": "18f29138-3514-4a94-bbf8-c63ab4a79b12",
   "metadata": {},
   "outputs": [
    {
     "data": {
      "text/plain": [
       "{'TRBV7-6': 0.005827468044483552,\n",
       " 'TRBV4-1': 0.0014716915891307219,\n",
       " 'TRBV16': 0.0017172673132878243,\n",
       " 'TRBV14': 0.010037304346067973,\n",
       " 'TRBV13': 0.005813887795723745,\n",
       " 'TRBV12-5': 0.008892597092857118}"
      ]
     },
     "execution_count": 97,
     "metadata": {},
     "output_type": "execute_result"
    }
   ],
   "source": [
    "significant_genes_bonferroni = {gene: p for gene, p in corrected_results.items() if p < alpha}\n",
    "significant_genes_bonferroni"
   ]
  },
  {
   "cell_type": "markdown",
   "id": "26ff07d7-a2ba-404c-a6ea-d29553533f66",
   "metadata": {},
   "source": [
    "Let's plot these genes to see their distribution:"
   ]
  },
  {
   "cell_type": "code",
   "execution_count": 98,
   "id": "5f7df98d-9e46-4f25-b283-ad26e0e93138",
   "metadata": {},
   "outputs": [
    {
     "data": {
      "image/png": "[encoded data removed]",
      "text/plain": [
       "<Figure size 1500x1500 with 6 Axes>"
      ]
     },
     "metadata": {},
     "output_type": "display_data"
    }
   ],
   "source": [
    "plt.figure(figsize=(15,15))\n",
    "\n",
    "for i, column in enumerate(trbv_meta[significant_genes_bonferroni.keys()].columns):\n",
    "    plt.subplot(10, 7, i+1)\n",
    "    plt.hist(x=trbv_meta[column], bins=100)\n",
    "    plt.title(f'{column}') \n",
    "plt.subplots_adjust(wspace=0.4, hspace=0.8)\n",
    "plt.show()"
   ]
  },
  {
   "cell_type": "markdown",
   "id": "6e539ae7-ce5f-4588-9d05-7cc1b3f4d1e4",
   "metadata": {},
   "source": [
    "# J genes"
   ]
  },
  {
   "cell_type": "markdown",
   "id": "56d074e0-f0e1-43f9-956f-6e1a4ea4b66f",
   "metadata": {},
   "source": [
    "# TRBJ1-6"
   ]
  },
  {
   "cell_type": "code",
   "execution_count": 105,
   "id": "f4e0f736-b97b-4157-a95a-f3807c589a15",
   "metadata": {},
   "outputs": [
    {
     "data": {
      "image/png": "[encoded data removed]",
      "text/plain": [
       "<Figure size 640x480 with 1 Axes>"
      ]
     },
     "metadata": {},
     "output_type": "display_data"
    }
   ],
   "source": [
    "plt.hist(x=trbj['TRBJ1-6'], bins=100);"
   ]
  },
  {
   "cell_type": "code",
   "execution_count": 106,
   "id": "7a4639b5-006a-42a6-83f2-d15df5f0da7d",
   "metadata": {},
   "outputs": [
    {
     "data": {
      "text/plain": [
       "J1-6 group\n",
       "1    348\n",
       "2    187\n",
       "0    130\n",
       "Name: count, dtype: int64"
      ]
     },
     "execution_count": 106,
     "metadata": {},
     "output_type": "execute_result"
    }
   ],
   "source": [
    "trbj_meta['J1-6 group'] = trbj_meta.apply(lambda row: 0 if row['TRBJ1-6'] < 0.02 else (1 if row['TRBJ1-6'] < 0.04 else 2), axis=1)\n",
    "trbj_meta['J1-6 group'].value_counts()"
   ]
  },
  {
   "cell_type": "code",
   "execution_count": 107,
   "id": "2f7f300c-3add-425d-9202-9a5a7ebdc9ad",
   "metadata": {},
   "outputs": [
    {
     "data": {
      "text/html": [
       "<div>\n",
       "<style scoped>\n",
       "    .dataframe tbody tr th:only-of-type {\n",
       "        vertical-align: middle;\n",
       "    }\n",
       "\n",
       "    .dataframe tbody tr th {\n",
       "        vertical-align: top;\n",
       "    }\n",
       "\n",
       "    .dataframe thead th {\n",
       "        text-align: right;\n",
       "    }\n",
       "</style>\n",
       "<table border=\"1\" class=\"dataframe\">\n",
       "  <thead>\n",
       "    <tr style=\"text-align: right;\">\n",
       "      <th>race</th>\n",
       "      <th>asian or pacific islander,non-hispanic or latino</th>\n",
       "      <th>black or african american,non-hispanic or latino</th>\n",
       "      <th>caucasian,non-hispanic or latino</th>\n",
       "      <th>hispanic or latino</th>\n",
       "      <th>non-hispanic or latino</th>\n",
       "    </tr>\n",
       "    <tr>\n",
       "      <th>J1-6 group</th>\n",
       "      <th></th>\n",
       "      <th></th>\n",
       "      <th></th>\n",
       "      <th></th>\n",
       "      <th></th>\n",
       "    </tr>\n",
       "  </thead>\n",
       "  <tbody>\n",
       "    <tr>\n",
       "      <th>0</th>\n",
       "      <td>12</td>\n",
       "      <td>1</td>\n",
       "      <td>69</td>\n",
       "      <td>4</td>\n",
       "      <td>3</td>\n",
       "    </tr>\n",
       "    <tr>\n",
       "      <th>1</th>\n",
       "      <td>6</td>\n",
       "      <td>3</td>\n",
       "      <td>196</td>\n",
       "      <td>13</td>\n",
       "      <td>3</td>\n",
       "    </tr>\n",
       "    <tr>\n",
       "      <th>2</th>\n",
       "      <td>2</td>\n",
       "      <td>4</td>\n",
       "      <td>112</td>\n",
       "      <td>9</td>\n",
       "      <td>3</td>\n",
       "    </tr>\n",
       "  </tbody>\n",
       "</table>\n",
       "</div>"
      ],
      "text/plain": [
       "race        asian or pacific islander,non-hispanic or latino  \\\n",
       "J1-6 group                                                     \n",
       "0                                                         12   \n",
       "1                                                          6   \n",
       "2                                                          2   \n",
       "\n",
       "race        black or african american,non-hispanic or latino  \\\n",
       "J1-6 group                                                     \n",
       "0                                                          1   \n",
       "1                                                          3   \n",
       "2                                                          4   \n",
       "\n",
       "race        caucasian,non-hispanic or latino  hispanic or latino  \\\n",
       "J1-6 group                                                         \n",
       "0                                         69                   4   \n",
       "1                                        196                  13   \n",
       "2                                        112                   9   \n",
       "\n",
       "race        non-hispanic or latino  \n",
       "J1-6 group                          \n",
       "0                                3  \n",
       "1                                3  \n",
       "2                                3  "
      ]
     },
     "execution_count": 107,
     "metadata": {},
     "output_type": "execute_result"
    }
   ],
   "source": [
    "contingency_table = pd.crosstab(trbj_meta['J1-6 group'], trbj_meta['race'])\n",
    "contingency_table"
   ]
  },
  {
   "cell_type": "code",
   "execution_count": 108,
   "id": "6874aa83-ff4d-4df4-a560-8f9c1d72b916",
   "metadata": {},
   "outputs": [
    {
     "data": {
      "text/plain": [
       "0.0020746457247974334"
      ]
     },
     "execution_count": 108,
     "metadata": {},
     "output_type": "execute_result"
    }
   ],
   "source": [
    "chi2, p, dof, expected = chi2_contingency(contingency_table)\n",
    "p"
   ]
  },
  {
   "cell_type": "code",
   "execution_count": 109,
   "id": "9ee1b28b-d480-4558-95a5-9275bc082cb7",
   "metadata": {},
   "outputs": [
    {
     "name": "stdout",
     "output_type": "stream",
     "text": [
      "Chi-squared test between asian or pacific islander,non-hispanic or latino and black or african american,non-hispanic or latino is significant (p-value = 0.02810536285849973)\n",
      "Chi-squared test between asian or pacific islander,non-hispanic or latino and caucasian,non-hispanic or latino is significant (p-value = 3.43347189498756e-05)\n",
      "Chi-squared test between asian or pacific islander,non-hispanic or latino and hispanic or latino is significant (p-value = 0.005439045800409859)\n",
      "Chi-squared test between asian or pacific islander,non-hispanic or latino and non-hispanic or latino is NOT significant (p-value = 0.2422517564238788)\n",
      "Chi-squared test between black or african american,non-hispanic or latino and caucasian,non-hispanic or latino is NOT significant (p-value = 0.4644483257976002)\n",
      "Chi-squared test between black or african american,non-hispanic or latino and hispanic or latino is NOT significant (p-value = 0.734754165272365)\n",
      "Chi-squared test between black or african american,non-hispanic or latino and non-hispanic or latino is NOT significant (p-value = 0.5804806512824456)\n",
      "Chi-squared test between caucasian,non-hispanic or latino and hispanic or latino is NOT significant (p-value = 0.8487658631077144)\n",
      "Chi-squared test between caucasian,non-hispanic or latino and non-hispanic or latino is NOT significant (p-value = 0.4280787346056474)\n",
      "Chi-squared test between hispanic or latino and non-hispanic or latino is NOT significant (p-value = 0.47559477394634286)\n"
     ]
    }
   ],
   "source": [
    "test_race_associations(contingency_table)"
   ]
  },
  {
   "cell_type": "code",
   "execution_count": 110,
   "id": "4104ac11-557f-4e09-bde7-0382be085546",
   "metadata": {},
   "outputs": [],
   "source": [
    "genes_to_test = ['TRBJ2-7',\n",
    " 'TRBJ2-6',\n",
    " 'TRBJ2-5',\n",
    " 'TRBJ2-4',\n",
    " 'TRBJ2-3',\n",
    " 'TRBJ2-2',\n",
    " 'TRBJ2-1',\n",
    " 'TRBJ1-5',\n",
    " 'TRBJ1-4',\n",
    " 'TRBJ1-3',\n",
    " 'TRBJ1-2',\n",
    " 'TRBJ1-1',]"
   ]
  },
  {
   "cell_type": "code",
   "execution_count": 111,
   "id": "08a47bb5-a08f-4f57-b9c8-6ec0caf6cb8f",
   "metadata": {},
   "outputs": [],
   "source": [
    "results = {}\n",
    "\n",
    "for gene in genes_to_test:\n",
    "    groups = trbj_meta.groupby('race')[gene].apply(list)\n",
    "    stat, p_value = kruskal(*groups)\n",
    "    results[gene] = p_value\n",
    "    \n",
    "num_tests = len(results)\n",
    "alpha = 0.05\n",
    "bonferroni_threshold = alpha / num_tests\n",
    "\n",
    "corrected_results = {}\n",
    "for gene, p_value in results.items():\n",
    "    adjusted_p = p_value * num_tests\n",
    "    if adjusted_p > 1:\n",
    "        adjusted_p = 1\n",
    "    corrected_results[gene] = adjusted_p"
   ]
  },
  {
   "cell_type": "code",
   "execution_count": 112,
   "id": "d0e8b5ab-71c0-4500-87d0-2c23dc981779",
   "metadata": {},
   "outputs": [
    {
     "data": {
      "text/plain": [
       "{}"
      ]
     },
     "execution_count": 112,
     "metadata": {},
     "output_type": "execute_result"
    }
   ],
   "source": [
    "significant_genes_bonferroni = {gene: p for gene, p in corrected_results.items() if p < alpha}\n",
    "significant_genes_bonferroni"
   ]
  },
  {
   "cell_type": "code",
   "execution_count": 113,
   "id": "899beb60-248f-4e6c-a37b-97e4199ba6ea",
   "metadata": {},
   "outputs": [
    {
     "data": {
      "text/plain": [
       "{'TRBJ2-7': 0.46006528454989293,\n",
       " 'TRBJ2-6': 0.45074393596873996,\n",
       " 'TRBJ2-5': 0.36857127874754747,\n",
       " 'TRBJ2-4': 0.20150258584839373,\n",
       " 'TRBJ2-3': 0.09602499194203462,\n",
       " 'TRBJ2-2': 0.27383736924048424,\n",
       " 'TRBJ2-1': 0.05328849517267717,\n",
       " 'TRBJ1-5': 0.03724813744120652,\n",
       " 'TRBJ1-4': 0.054831136886479726,\n",
       " 'TRBJ1-3': 0.18410136326630505,\n",
       " 'TRBJ1-2': 0.11528390767496755,\n",
       " 'TRBJ1-1': 0.7851117393268856}"
      ]
     },
     "execution_count": 113,
     "metadata": {},
     "output_type": "execute_result"
    }
   ],
   "source": [
    "results"
   ]
  }
 ],
 "metadata": {
  "kernelspec": {
   "display_name": "Python [conda env:.conda-haplotypes]",
   "language": "python",
   "name": "conda-env-.conda-haplotypes-py"
  },
  "language_info": {
   "codemirror_mode": {
    "name": "ipython",
    "version": 3
   },
   "file_extension": ".py",
   "mimetype": "text/x-python",
   "name": "python",
   "nbconvert_exporter": "python",
   "pygments_lexer": "ipython3",
   "version": "3.12.1"
  }
 },
 "nbformat": 4,
 "nbformat_minor": 5
}
