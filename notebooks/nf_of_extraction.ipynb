{
 "cells": [
  {
   "cell_type": "markdown",
   "id": "31e631e4-a8fb-4882-a84e-0aefed27ec0a",
   "metadata": {},
   "source": [
    "*This notebook extracts only functional or only non-functional sequences.*"
   ]
  },
  {
   "cell_type": "code",
   "execution_count": 26,
   "id": "7aa7b88d-857a-4766-bd5e-18a84901268c",
   "metadata": {},
   "outputs": [],
   "source": [
    "import os\n",
    "import re\n",
    "import pandas as pd"
   ]
  },
  {
   "cell_type": "markdown",
   "id": "7d1a6794-8e4a-408d-8445-72562af767d5",
   "metadata": {},
   "source": [
    "# Cohort-I"
   ]
  },
  {
   "cell_type": "code",
   "execution_count": 27,
   "id": "62f1496e-6289-44aa-b4f1-67836854b4f4",
   "metadata": {},
   "outputs": [],
   "source": [
    "path_to_raw = '../data/cohort_I/data/'\n",
    "path_to_nf_dir = '../data/cohort_I/nonfunctional/'\n",
    "path_to_of_dir = '../data/cohort_I/onlyfunctional/'"
   ]
  },
  {
   "cell_type": "code",
   "execution_count": 29,
   "id": "7826a202-eb76-40fe-9a67-21358ff9c493",
   "metadata": {},
   "outputs": [],
   "source": [
    "patient_file_names = os.listdir(path = path_to_raw)\n",
    "\n",
    "raw_strings = 0\n",
    "nf_strings = 0\n",
    "of_strings = 0\n",
    "\n",
    "for patient_file in patient_file_names:\n",
    "    path_to_file = path_to_raw + patient_file\n",
    "    df = pd.read_csv(path_to_file)\n",
    "    raw_strings += len(df)\n",
    "    \n",
    "    df_nf = df[df[\"cdr3aa\"].str.contains(\"\\*|_\")]\n",
    "    df_of = df[~df[\"cdr3aa\"].str.contains(\"\\*|_\")]\n",
    "    nf_strings += len(df_nf)\n",
    "    of_strings += len(df_of)\n",
    "    \n",
    "    res_file = path_to_nf_dir + patient_file\n",
    "    df_nf.to_csv(res_file, index=False)\n",
    "    res_file = path_to_of_dir + patient_file\n",
    "    df_of.to_csv(res_file, index=False)"
   ]
  },
  {
   "cell_type": "code",
   "execution_count": 30,
   "id": "8d74d348-ced1-4f57-bc0a-9cd3b2f4d0d7",
   "metadata": {},
   "outputs": [
    {
     "name": "stdout",
     "output_type": "stream",
     "text": [
      "Initially 63270061 strings existed\n",
      "Now 23227311 nonfunctional strings or 37% left\n",
      "Now 40042750 only functional strings or 63% left\n"
     ]
    }
   ],
   "source": [
    "print(f'Initially {raw_strings} strings existed')\n",
    "print(f'Now {nf_strings} nonfunctional strings or {round(nf_strings/raw_strings*100)}% left')\n",
    "print(f'Now {of_strings} only functional strings or {round(of_strings/raw_strings*100)}% left')"
   ]
  },
  {
   "cell_type": "code",
   "execution_count": null,
   "id": "faa7c666-bedc-4918-b6be-613e64df6167",
   "metadata": {},
   "outputs": [],
   "source": []
  },
  {
   "cell_type": "code",
   "execution_count": 19,
   "id": "d632fead-7acc-49e5-8cda-e3c5e2f987ab",
   "metadata": {
    "tags": []
   },
   "outputs": [],
   "source": [
    "file_names = os.listdir(path = path_to_raw)\n",
    "pattern = r'([\\w_]*)_S[\\w_]*\\.clonotypes.TR\\w.txt'\n",
    "\n",
    "patient_file_names = []\n",
    "for file_name in file_names:\n",
    "    patient_id_match = re.match(pattern, file_name)\n",
    "    if patient_id_match is None: continue\n",
    "    patient_file_names.append(patient_id_match.group())"
   ]
  },
  {
   "cell_type": "code",
   "execution_count": 21,
   "id": "bf77493d-fc8d-4183-a1fc-864883b17dcb",
   "metadata": {},
   "outputs": [],
   "source": [
    "patient_file_names = os.listdir(path = path_to_raw)"
   ]
  },
  {
   "cell_type": "code",
   "execution_count": null,
   "id": "3945cc56-3d44-44e2-bdf4-29d82a3e86c5",
   "metadata": {},
   "outputs": [],
   "source": [
    "raw_strings = 0\n",
    "nf_strings = 0\n",
    "\n",
    "for patient_file in patient_file_names:\n",
    "    path_to_file = path_to_raw + patient_file\n",
    "    df = pd.read_csv(path_to_file)\n",
    "    raw_strings += len(df)\n",
    "    df = df[df[\"cdr3aa\"].str.contains(\"\\*|_\")]\n",
    "    nf_strings += len(df)\n",
    "    res_file = path_to_of_dir + patient_file\n",
    "    df.to_csv(res_file, index=False)  "
   ]
  },
  {
   "cell_type": "code",
   "execution_count": null,
   "id": "824e4dbc-19c2-4ac9-a8a4-73a601197ea0",
   "metadata": {},
   "outputs": [],
   "source": [
    "raw_strings = 0\n",
    "of_strings = 0\n",
    "\n",
    "for patient_file in patient_file_names:\n",
    "    path_to_file = path_to_raw + patient_file\n",
    "    #print(f'{path_to_file} = {path_to_raw} + {patient_file}')\n",
    "    df = pd.read_csv(path_to_file)\n",
    "    #display(df)\n",
    "    raw_strings += len(df)\n",
    "    df = df[~df[\"cdr3aa\"].str.contains(\"\\*|_\")]\n",
    "    of_strings += len(df)\n",
    "    #res_file = path_to_of_dir + 'of_' + patient_file\n",
    "    res_file = path_to_of_dir + patient_file\n",
    "    df.to_csv(res_file, index=False)"
   ]
  },
  {
   "cell_type": "code",
   "execution_count": 25,
   "id": "afaa4476-71ab-4cba-9588-33fdb52d4283",
   "metadata": {},
   "outputs": [
    {
     "name": "stdout",
     "output_type": "stream",
     "text": [
      "Initially 63270061 strings existed. Now 23227311 strings or 37% left\n"
     ]
    }
   ],
   "source": [
    "print(f'Initially {raw_strings} strings existed. Now {nf_strings} strings or {round(nf_strings/raw_strings*100)}% left')"
   ]
  },
  {
   "cell_type": "code",
   "execution_count": null,
   "id": "b6d36ac5-d98a-4625-bf49-573bbb9215a5",
   "metadata": {},
   "outputs": [],
   "source": []
  }
 ],
 "metadata": {
  "kernelspec": {
   "display_name": "Python [conda env:.conda-ob]",
   "language": "python",
   "name": "conda-env-.conda-ob-py"
  },
  "language_info": {
   "codemirror_mode": {
    "name": "ipython",
    "version": 3
   },
   "file_extension": ".py",
   "mimetype": "text/x-python",
   "name": "python",
   "nbconvert_exporter": "python",
   "pygments_lexer": "ipython3",
   "version": "3.11.7"
  }
 },
 "nbformat": 4,
 "nbformat_minor": 5
}
